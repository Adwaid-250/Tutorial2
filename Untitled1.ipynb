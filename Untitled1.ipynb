{
 "cells": [
  {
   "cell_type": "code",
   "execution_count": 1,
   "id": "de256834-c682-45ec-afe0-f95300ee954d",
   "metadata": {},
   "outputs": [
    {
     "data": {
      "text/plain": [
       "  C_CONTIGUOUS : True\n",
       "  F_CONTIGUOUS : False\n",
       "  OWNDATA : True\n",
       "  WRITEABLE : True\n",
       "  ALIGNED : True\n",
       "  WRITEBACKIFCOPY : False"
      ]
     },
     "execution_count": 1,
     "metadata": {},
     "output_type": "execute_result"
    }
   ],
   "source": [
    "import numpy as np\n",
    "a=np.array([[1,0,2],[2,1,1],[3,0,3]])\n",
    "b=np.array([[2,2,0],[1,0,1],[0,1,0]])\n",
    "b.flags"
   ]
  },
  {
   "cell_type": "code",
   "execution_count": 5,
   "id": "da026a85-4d00-4773-9b8d-8b8dad72114a",
   "metadata": {},
   "outputs": [
    {
     "data": {
      "text/plain": [
       "(3, 3)"
      ]
     },
     "execution_count": 5,
     "metadata": {},
     "output_type": "execute_result"
    }
   ],
   "source": [
    "import numpy as np\n",
    "a=np.array([[1,0,2],[2,1,1],[3,0,3]])\n",
    "b=np.array([[2,2,0],[1,0,1],[0,1,0]])\n",
    "b.shape\n"
   ]
  },
  {
   "cell_type": "code",
   "execution_count": 7,
   "id": "35a5ddeb-e7e4-41fb-802d-6289c20ccb99",
   "metadata": {},
   "outputs": [
    {
     "data": {
      "text/plain": [
       "9"
      ]
     },
     "execution_count": 7,
     "metadata": {},
     "output_type": "execute_result"
    }
   ],
   "source": [
    "import numpy as np\n",
    "a=np.array([[1,0,2],[2,1,1],[3,0,3]])\n",
    "b=np.array([[2,2,0],[1,0,1],[0,1,0]])\n",
    "b.size"
   ]
  },
  {
   "cell_type": "code",
   "execution_count": 11,
   "id": "4787489a-1140-43d0-bdc9-2eb3f1fb3b01",
   "metadata": {},
   "outputs": [
    {
     "data": {
      "text/plain": [
       "2"
      ]
     },
     "execution_count": 11,
     "metadata": {},
     "output_type": "execute_result"
    }
   ],
   "source": [
    "import numpy as np\n",
    "a=np.array([[1,0,2],[2,1,1],[3,0,3]])\n",
    "b=np.array([[2,2,0],[1,0,1],[0,1,0]])\n",
    "b.ndim"
   ]
  },
  {
   "cell_type": "code",
   "execution_count": 13,
   "id": "092b3708-967c-4cb3-bf29-8e408adf3d71",
   "metadata": {},
   "outputs": [
    {
     "data": {
      "text/plain": [
       "<memory at 0x000001E915124BA0>"
      ]
     },
     "execution_count": 13,
     "metadata": {},
     "output_type": "execute_result"
    }
   ],
   "source": [
    "import numpy as np\n",
    "a=np.array([[1,0,2],[2,1,1],[3,0,3]])\n",
    "b=np.array([[2,2,0],[1,0,1],[0,1,0]])\n",
    "b.data\n"
   ]
  },
  {
   "cell_type": "code",
   "execution_count": 15,
   "id": "1c5a27fe-1dc9-473f-b265-0aab636bf353",
   "metadata": {},
   "outputs": [
    {
     "data": {
      "text/plain": [
       "4"
      ]
     },
     "execution_count": 15,
     "metadata": {},
     "output_type": "execute_result"
    }
   ],
   "source": [
    "import numpy as np\n",
    "a=np.array([[1,0,2],[2,1,1],[3,0,3]])\n",
    "b=np.array([[2,2,0],[1,0,1],[0,1,0]])\n",
    "b.itemsize"
   ]
  },
  {
   "cell_type": "code",
   "execution_count": 17,
   "id": "442b4a64-cce9-4898-9f36-1bd8666923c8",
   "metadata": {},
   "outputs": [],
   "source": [
    "import numpy as np\n",
    "a=np.array([[1,0,2],[2,1,1],[3,0,3]])\n",
    "b=np.array([[2,2,0],[1,0,1],[0,1,0]])\n",
    "b.base"
   ]
  },
  {
   "cell_type": "code",
   "execution_count": 19,
   "id": "2c31ea1b-1a31-4b34-a9aa-a19985b0b872",
   "metadata": {},
   "outputs": [
    {
     "data": {
      "text/plain": [
       "36"
      ]
     },
     "execution_count": 19,
     "metadata": {},
     "output_type": "execute_result"
    }
   ],
   "source": [
    "import numpy as np\n",
    "a=np.array([[1,0,2],[2,1,1],[3,0,3]])\n",
    "b=np.array([[2,2,0],[1,0,1],[0,1,0]])\n",
    "b.nbytes"
   ]
  },
  {
   "cell_type": "code",
   "execution_count": 21,
   "id": "7a69fbe3-4323-4add-8a37-64ef0d93b1cd",
   "metadata": {},
   "outputs": [
    {
     "data": {
      "text/plain": [
       "array([[2, 1, 0],\n",
       "       [2, 0, 1],\n",
       "       [0, 1, 0]])"
      ]
     },
     "execution_count": 21,
     "metadata": {},
     "output_type": "execute_result"
    }
   ],
   "source": [
    "import numpy as np\n",
    "a=np.array([[1,0,2],[2,1,1],[3,0,3]])\n",
    "b=np.array([[2,2,0],[1,0,1],[0,1,0]])\n",
    "b.T"
   ]
  },
  {
   "cell_type": "code",
   "execution_count": 23,
   "id": "4b265168-950a-48e7-8a64-60268f5bcf39",
   "metadata": {},
   "outputs": [
    {
     "data": {
      "text/plain": [
       "array([[2, 2, 0],\n",
       "       [1, 0, 1],\n",
       "       [0, 1, 0]])"
      ]
     },
     "execution_count": 23,
     "metadata": {},
     "output_type": "execute_result"
    }
   ],
   "source": [
    "import numpy as np\n",
    "a=np.array([[1,0,2],[2,1,1],[3,0,3]])\n",
    "b=np.array([[2,2,0],[1,0,1],[0,1,0]])\n",
    "b.real"
   ]
  },
  {
   "cell_type": "code",
   "execution_count": 25,
   "id": "9b2a226b-7ba1-4e92-bb45-291e5eb5189e",
   "metadata": {},
   "outputs": [
    {
     "data": {
      "text/plain": [
       "array([[0, 0, 0],\n",
       "       [0, 0, 0],\n",
       "       [0, 0, 0]])"
      ]
     },
     "execution_count": 25,
     "metadata": {},
     "output_type": "execute_result"
    }
   ],
   "source": [
    "import numpy as np\n",
    "a=np.array([[1,0,2],[2,1,1],[3,0,3]])\n",
    "b=np.array([[2,2,0],[1,0,1],[0,1,0]])\n",
    "b.imag"
   ]
  },
  {
   "cell_type": "code",
   "execution_count": 27,
   "id": "45b8f101-5571-48af-9fa1-3edd993f6b44",
   "metadata": {},
   "outputs": [
    {
     "data": {
      "text/plain": [
       "(12, 4)"
      ]
     },
     "execution_count": 27,
     "metadata": {},
     "output_type": "execute_result"
    }
   ],
   "source": [
    "import numpy as np\n",
    "a=np.array([[1,0,2],[2,1,1],[3,0,3]])\n",
    "b=np.array([[2,2,0],[1,0,1],[0,1,0]])\n",
    "b.strides"
   ]
  },
  {
   "cell_type": "code",
   "execution_count": null,
   "id": "e4d67656-86be-4f7b-a65c-024a5e2c8b7f",
   "metadata": {},
   "outputs": [],
   "source": []
  }
 ],
 "metadata": {
  "kernelspec": {
   "display_name": "Python 3 (ipykernel)",
   "language": "python",
   "name": "python3"
  },
  "language_info": {
   "codemirror_mode": {
    "name": "ipython",
    "version": 3
   },
   "file_extension": ".py",
   "mimetype": "text/x-python",
   "name": "python",
   "nbconvert_exporter": "python",
   "pygments_lexer": "ipython3",
   "version": "3.12.4"
  }
 },
 "nbformat": 4,
 "nbformat_minor": 5
}
